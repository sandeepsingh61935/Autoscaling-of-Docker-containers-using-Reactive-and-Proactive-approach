{
  "nbformat": 4,
  "nbformat_minor": 0,
  "metadata": {
    "colab": {
      "provenance": [],
      "include_colab_link": true
    },
    "kernelspec": {
      "name": "python3",
      "display_name": "Python 3"
    }
  },
  "cells": [
    {
      "cell_type": "markdown",
      "metadata": {
        "id": "view-in-github",
        "colab_type": "text"
      },
      "source": [
        "<a href=\"https://colab.research.google.com/github/sandeepsingh61935/Autoscaling-of-Docker-containers-using-Reactive-and-Proactive-approach/blob/main/Allmodel.ipynb\" target=\"_parent\"><img src=\"https://colab.research.google.com/assets/colab-badge.svg\" alt=\"Open In Colab\"/></a>"
      ]
    },
    {
      "cell_type": "code",
      "metadata": {
        "id": "nTPWvbctvEd-"
      },
      "source": [
        "from google.colab import drive\n",
        "drive.mount('/content/drive')\n"
      ],
      "execution_count": null,
      "outputs": []
    },
    {
      "cell_type": "code",
      "metadata": {
        "id": "1QcQ2AAKwWCZ",
        "outputId": "502bffa9-ef31-4c4d-f09d-82b832edc8d4",
        "colab": {
          "base_uri": "https://localhost:8080/",
          "height": 88
        }
      },
      "source": [
        "import pandas as pd\n",
        "import numpy as np\n",
        "from scipy.io import arff\n",
        "from matplotlib.pylab import rcParams\n",
        "from pandas import read_csv\n",
        "from pandas import DataFrame\n",
        "from pandas import concat\n",
        "import os\n",
        "from sklearn.metrics import mean_squared_error, r2_score\n",
        "import matplotlib.pylab as plt\n",
        "from sklearn.preprocessing import MinMaxScaler\n",
        "from sklearn.linear_model import LinearRegression\n",
        "from math import sqrt\n",
        "from sklearn.svm import SVR,NuSVR\n",
        "from statsmodels.tsa.arima_model import ARIMA\n",
        "from keras.models import load_model\n",
        "from pandas.plotting import autocorrelation_plot\n",
        "from statsmodels.graphics.tsaplots import plot_acf\n",
        "from statsmodels.graphics.tsaplots import plot_pacf\n",
        "from sklearn.metrics import mean_absolute_error\n",
        "from keras.losses import MeanAbsolutePercentageError"
      ],
      "execution_count": null,
      "outputs": [
        {
          "output_type": "stream",
          "text": [
            "/usr/local/lib/python3.6/dist-packages/statsmodels/tools/_testing.py:19: FutureWarning: pandas.util.testing is deprecated. Use the functions in the public API at pandas.testing instead.\n",
            "  import pandas.util.testing as tm\n",
            "Using TensorFlow backend.\n"
          ],
          "name": "stderr"
        }
      ]
    },
    {
      "cell_type": "code",
      "metadata": {
        "id": "YbRqvpR0wAoI",
        "outputId": "02d1597c-eb51-4ae4-d952-df3dd26c1d3a",
        "colab": {
          "base_uri": "https://localhost:8080/",
          "height": 51
        }
      },
      "source": [
        "print(os.getcwd())\n",
        "os.chdir('/content/drive/My Drive')\n",
        "os.chdir('eightSemProject')\n",
        "print(os.getcwd())"
      ],
      "execution_count": null,
      "outputs": [
        {
          "output_type": "stream",
          "text": [
            "/content\n",
            "/content/drive/My Drive/eightSemProject\n"
          ],
          "name": "stdout"
        }
      ]
    },
    {
      "cell_type": "markdown",
      "metadata": {
        "id": "bJBZPz6L_wbr"
      },
      "source": [
        "**LSTM**"
      ]
    },
    {
      "cell_type": "code",
      "metadata": {
        "id": "gyfHlcm5ibuo",
        "outputId": "a0a5fbd9-2733-494d-ede5-2aa04f13bbd5",
        "colab": {
          "base_uri": "https://localhost:8080/",
          "height": 1000
        }
      },
      "source": [
        "#Train data\n",
        "data = arff.loadarff('input_data.arff')\n",
        "series = pd.DataFrame(data[0])\n",
        "#train http requests\n",
        "temps=pd.DataFrame(series['hits'])\n",
        "\n",
        "#Test data\n",
        "data_test = arff.loadarff('test_data.arff')\n",
        "series_test = pd.DataFrame(data_test[0])\n",
        "#test http requests\n",
        "y_test=pd.DataFrame(series_test['hits'])\n",
        "#total http requests\n",
        "temps=temps.append(y_test,ignore_index = True)\n",
        "\n",
        "dataframe=concat([temps.shift(10),temps.shift(9),temps.shift(8),temps.shift(7),temps.shift(6),temps.shift(5),temps.shift(4),temps.shift(3),temps.shift(2),temps.shift(1)], axis=1)\n",
        "dataframe.columns = ['me', 'mx', 't+1','h','g','hth','w','e','r','t']\n",
        "print(dataframe[0:15])\n",
        "df=DataFrame()\n",
        "df=dataframe[10:672]\n",
        "\n",
        "x_test=DataFrame()\n",
        "x_test=dataframe[672:]\n",
        "\n",
        "x_train=DataFrame()\n",
        "x_train=df\n",
        "\n",
        "y_train=DataFrame()\n",
        "y_train=pd.DataFrame(temps[10:672])\n",
        "\n",
        "x_t=x_train.values\n",
        "y_t=y_train.values\n",
        "\n",
        "print(x_test)\n",
        "print(y_test)\n",
        "\n",
        "x_t=x_train.values\n",
        "y_t=y_train.values\n",
        "\n",
        "#scaling operations(train data)\n",
        "scaler = MinMaxScaler(feature_range =(0, 1))\n",
        "scaler = scaler.fit(x_t)\n",
        "x_train=scaler.transform(x_t)\n",
        "x_train=pd.DataFrame(x_train)\n",
        "\n",
        "#scaling operations(test data)\n",
        "x_te=x_test.values\n",
        "scaler1 = MinMaxScaler(feature_range =(0, 1))\n",
        "scaler1 = scaler1.fit(x_te)\n",
        "x_test=scaler1.transform(x_te)\n",
        "x_test=pd.DataFrame(x_test)\n",
        "\n",
        "scalery = MinMaxScaler(feature_range =(0, 1))\n",
        "scalery = scalery.fit(y_t)\n",
        "y_train=scalery.transform(y_t)\n",
        "y_train=pd.DataFrame(y_train)"
      ],
      "execution_count": null,
      "outputs": [
        {
          "output_type": "stream",
          "text": [
            "         me       mx      t+1        h  ...        w        e        r        t\n",
            "0       NaN      NaN      NaN      NaN  ...      NaN      NaN      NaN      NaN\n",
            "1       NaN      NaN      NaN      NaN  ...      NaN      NaN      NaN   6172.0\n",
            "2       NaN      NaN      NaN      NaN  ...      NaN      NaN   6172.0   5957.0\n",
            "3       NaN      NaN      NaN      NaN  ...      NaN   6172.0   5957.0   5154.0\n",
            "4       NaN      NaN      NaN      NaN  ...   6172.0   5957.0   5154.0   8200.0\n",
            "5       NaN      NaN      NaN      NaN  ...   5957.0   5154.0   8200.0  11327.0\n",
            "6       NaN      NaN      NaN      NaN  ...   5154.0   8200.0  11327.0   8565.0\n",
            "7       NaN      NaN      NaN   6172.0  ...   8200.0  11327.0   8565.0   8766.0\n",
            "8       NaN      NaN   6172.0   5957.0  ...  11327.0   8565.0   8766.0   8593.0\n",
            "9       NaN   6172.0   5957.0   5154.0  ...   8565.0   8766.0   8593.0  12838.0\n",
            "10   6172.0   5957.0   5154.0   8200.0  ...   8766.0   8593.0  12838.0  11035.0\n",
            "11   5957.0   5154.0   8200.0  11327.0  ...   8593.0  12838.0  11035.0  15581.0\n",
            "12   5154.0   8200.0  11327.0   8565.0  ...  12838.0  11035.0  15581.0  14393.0\n",
            "13   8200.0  11327.0   8565.0   8766.0  ...  11035.0  15581.0  14393.0  11200.0\n",
            "14  11327.0   8565.0   8766.0   8593.0  ...  15581.0  14393.0  11200.0  11990.0\n",
            "\n",
            "[15 rows x 10 columns]\n",
            "          me       mx      t+1        h  ...        w        e        r        t\n",
            "672  12354.0  11233.0  12713.0  10424.0  ...   9402.0   8580.0   8336.0   7241.0\n",
            "673  11233.0  12713.0  10424.0   9506.0  ...   8580.0   8336.0   7241.0   6979.0\n",
            "674  12713.0  10424.0   9506.0  10095.0  ...   8336.0   7241.0   6979.0   6719.0\n",
            "675  10424.0   9506.0  10095.0   9402.0  ...   7241.0   6979.0   6719.0   5434.0\n",
            "676   9506.0  10095.0   9402.0   8580.0  ...   6979.0   6719.0   5434.0   7227.0\n",
            "677  10095.0   9402.0   8580.0   8336.0  ...   6719.0   5434.0   7227.0   8369.0\n",
            "678   9402.0   8580.0   8336.0   7241.0  ...   5434.0   7227.0   8369.0   6599.0\n",
            "679   8580.0   8336.0   7241.0   6979.0  ...   7227.0   8369.0   6599.0   9302.0\n",
            "680   8336.0   7241.0   6979.0   6719.0  ...   8369.0   6599.0   9302.0   8861.0\n",
            "681   7241.0   6979.0   6719.0   5434.0  ...   6599.0   9302.0   8861.0  11262.0\n",
            "682   6979.0   6719.0   5434.0   7227.0  ...   9302.0   8861.0  11262.0  12477.0\n",
            "683   6719.0   5434.0   7227.0   8369.0  ...   8861.0  11262.0  12477.0  13869.0\n",
            "684   5434.0   7227.0   8369.0   6599.0  ...  11262.0  12477.0  13869.0  11778.0\n",
            "685   7227.0   8369.0   6599.0   9302.0  ...  12477.0  13869.0  11778.0  12907.0\n",
            "686   8369.0   6599.0   9302.0   8861.0  ...  13869.0  11778.0  12907.0  14173.0\n",
            "687   6599.0   9302.0   8861.0  11262.0  ...  11778.0  12907.0  14173.0  11875.0\n",
            "688   9302.0   8861.0  11262.0  12477.0  ...  12907.0  14173.0  11875.0  11693.0\n",
            "689   8861.0  11262.0  12477.0  13869.0  ...  14173.0  11875.0  11693.0  12217.0\n",
            "690  11262.0  12477.0  13869.0  11778.0  ...  11875.0  11693.0  12217.0   8221.0\n",
            "691  12477.0  13869.0  11778.0  12907.0  ...  11693.0  12217.0   8221.0  10864.0\n",
            "692  13869.0  11778.0  12907.0  14173.0  ...  12217.0   8221.0  10864.0   9705.0\n",
            "693  11778.0  12907.0  14173.0  11875.0  ...   8221.0  10864.0   9705.0   9950.0\n",
            "694  12907.0  14173.0  11875.0  11693.0  ...  10864.0   9705.0   9950.0   8173.0\n",
            "695  14173.0  11875.0  11693.0  12217.0  ...   9705.0   9950.0   8173.0   7913.0\n",
            "\n",
            "[24 rows x 10 columns]\n",
            "       hits\n",
            "0    6979.0\n",
            "1    6719.0\n",
            "2    5434.0\n",
            "3    7227.0\n",
            "4    8369.0\n",
            "5    6599.0\n",
            "6    9302.0\n",
            "7    8861.0\n",
            "8   11262.0\n",
            "9   12477.0\n",
            "10  13869.0\n",
            "11  11778.0\n",
            "12  12907.0\n",
            "13  14173.0\n",
            "14  11875.0\n",
            "15  11693.0\n",
            "16  12217.0\n",
            "17   8221.0\n",
            "18  10864.0\n",
            "19   9705.0\n",
            "20   9950.0\n",
            "21   8173.0\n",
            "22   7913.0\n",
            "23   7717.0\n"
          ],
          "name": "stdout"
        }
      ]
    },
    {
      "cell_type": "code",
      "metadata": {
        "id": "4SyamoQ5Rdzi"
      },
      "source": [
        "x_train=x_train.to_numpy()\n",
        "x_test=x_test.to_numpy()"
      ],
      "execution_count": null,
      "outputs": []
    },
    {
      "cell_type": "code",
      "metadata": {
        "id": "7V6YNwCp513P"
      },
      "source": [
        "trainX = np.reshape(x_train, (x_train.shape[0], 1, x_train.shape[1]))\n",
        "testX = np.reshape(x_test, (x_test.shape[0], 1, x_test.shape[1]))"
      ],
      "execution_count": null,
      "outputs": []
    },
    {
      "cell_type": "code",
      "metadata": {
        "id": "TDOTl5etTmXo",
        "outputId": "2f4860f3-8a29-401d-985c-c8347291ad88",
        "colab": {
          "base_uri": "https://localhost:8080/",
          "height": 34
        }
      },
      "source": [
        "trainX.shape"
      ],
      "execution_count": null,
      "outputs": [
        {
          "output_type": "execute_result",
          "data": {
            "text/plain": [
              "(662, 1, 10)"
            ]
          },
          "metadata": {
            "tags": []
          },
          "execution_count": 8
        }
      ]
    },
    {
      "cell_type": "code",
      "metadata": {
        "id": "dAHT9eJVVnHk",
        "outputId": "d6048155-6cd9-4e27-d40b-7a324188018d",
        "colab": {
          "base_uri": "https://localhost:8080/",
          "height": 1000
        }
      },
      "source": [
        "from keras.callbacks import ModelCheckpoint, EarlyStopping\n",
        "epochs =30\n",
        "batch_size=1\n",
        "if __name__==\"__main__\":\n",
        "  model=lo_model()\n",
        "  model.save('mymodel.h5')\n",
        "  callback_save = ModelCheckpoint('mymodel.h5',monitor='val_loss', save_best_only=True)\n",
        "  print('Model has been loaded')\n",
        "  model.fit(trainX,y_train,\n",
        "\t\t\t  batch_size=batch_size,\n",
        "\t\t\t  epochs=epochs,\n",
        "\t\t\t  callbacks = [callback_save],\n",
        "        validation_split=0.2\n",
        ")"
      ],
      "execution_count": null,
      "outputs": [
        {
          "output_type": "stream",
          "text": [
            "Model has been loaded\n",
            "Train on 529 samples, validate on 133 samples\n",
            "Epoch 1/30\n",
            "529/529 [==============================] - 1s 3ms/step - loss: 0.0332 - accuracy: 0.0000e+00 - val_loss: 0.0111 - val_accuracy: 0.0075\n",
            "Epoch 2/30\n",
            "529/529 [==============================] - 1s 2ms/step - loss: 0.0109 - accuracy: 0.0019 - val_loss: 0.0080 - val_accuracy: 0.0075\n",
            "Epoch 3/30\n",
            "529/529 [==============================] - 1s 2ms/step - loss: 0.0098 - accuracy: 0.0019 - val_loss: 0.0076 - val_accuracy: 0.0075\n",
            "Epoch 4/30\n",
            "529/529 [==============================] - 1s 2ms/step - loss: 0.0089 - accuracy: 0.0019 - val_loss: 0.0083 - val_accuracy: 0.0075\n",
            "Epoch 5/30\n",
            "529/529 [==============================] - 1s 2ms/step - loss: 0.0088 - accuracy: 0.0019 - val_loss: 0.0071 - val_accuracy: 0.0075\n",
            "Epoch 6/30\n",
            "529/529 [==============================] - 1s 2ms/step - loss: 0.0084 - accuracy: 0.0019 - val_loss: 0.0069 - val_accuracy: 0.0075\n",
            "Epoch 7/30\n",
            "529/529 [==============================] - 1s 2ms/step - loss: 0.0084 - accuracy: 0.0019 - val_loss: 0.0073 - val_accuracy: 0.0075\n",
            "Epoch 8/30\n",
            "529/529 [==============================] - 1s 2ms/step - loss: 0.0079 - accuracy: 0.0019 - val_loss: 0.0073 - val_accuracy: 0.0075\n",
            "Epoch 9/30\n",
            "529/529 [==============================] - 1s 2ms/step - loss: 0.0078 - accuracy: 0.0019 - val_loss: 0.0067 - val_accuracy: 0.0075\n",
            "Epoch 10/30\n",
            "529/529 [==============================] - 1s 2ms/step - loss: 0.0074 - accuracy: 0.0019 - val_loss: 0.0088 - val_accuracy: 0.0075\n",
            "Epoch 11/30\n",
            "529/529 [==============================] - 1s 2ms/step - loss: 0.0077 - accuracy: 0.0019 - val_loss: 0.0069 - val_accuracy: 0.0075\n",
            "Epoch 12/30\n",
            "529/529 [==============================] - 1s 2ms/step - loss: 0.0074 - accuracy: 0.0019 - val_loss: 0.0065 - val_accuracy: 0.0075\n",
            "Epoch 13/30\n",
            "529/529 [==============================] - 1s 2ms/step - loss: 0.0072 - accuracy: 0.0019 - val_loss: 0.0064 - val_accuracy: 0.0075\n",
            "Epoch 14/30\n",
            "529/529 [==============================] - 1s 2ms/step - loss: 0.0070 - accuracy: 0.0019 - val_loss: 0.0069 - val_accuracy: 0.0075\n",
            "Epoch 15/30\n",
            "529/529 [==============================] - 1s 2ms/step - loss: 0.0071 - accuracy: 0.0019 - val_loss: 0.0099 - val_accuracy: 0.0075\n",
            "Epoch 16/30\n",
            "529/529 [==============================] - 1s 2ms/step - loss: 0.0071 - accuracy: 0.0019 - val_loss: 0.0062 - val_accuracy: 0.0075\n",
            "Epoch 17/30\n",
            "529/529 [==============================] - 1s 2ms/step - loss: 0.0069 - accuracy: 0.0019 - val_loss: 0.0062 - val_accuracy: 0.0075\n",
            "Epoch 18/30\n",
            "529/529 [==============================] - 1s 2ms/step - loss: 0.0068 - accuracy: 0.0019 - val_loss: 0.0060 - val_accuracy: 0.0075\n",
            "Epoch 19/30\n",
            "529/529 [==============================] - 1s 2ms/step - loss: 0.0066 - accuracy: 0.0019 - val_loss: 0.0060 - val_accuracy: 0.0075\n",
            "Epoch 20/30\n",
            "529/529 [==============================] - 1s 2ms/step - loss: 0.0065 - accuracy: 0.0019 - val_loss: 0.0059 - val_accuracy: 0.0075\n",
            "Epoch 21/30\n",
            "529/529 [==============================] - 1s 2ms/step - loss: 0.0067 - accuracy: 0.0019 - val_loss: 0.0057 - val_accuracy: 0.0075\n",
            "Epoch 22/30\n",
            "529/529 [==============================] - 1s 2ms/step - loss: 0.0065 - accuracy: 0.0019 - val_loss: 0.0059 - val_accuracy: 0.0075\n",
            "Epoch 23/30\n",
            "529/529 [==============================] - 1s 2ms/step - loss: 0.0066 - accuracy: 0.0019 - val_loss: 0.0059 - val_accuracy: 0.0075\n",
            "Epoch 24/30\n",
            "529/529 [==============================] - 1s 2ms/step - loss: 0.0061 - accuracy: 0.0019 - val_loss: 0.0067 - val_accuracy: 0.0075\n",
            "Epoch 25/30\n",
            "529/529 [==============================] - 1s 2ms/step - loss: 0.0064 - accuracy: 0.0019 - val_loss: 0.0057 - val_accuracy: 0.0075\n",
            "Epoch 26/30\n",
            "529/529 [==============================] - 1s 2ms/step - loss: 0.0062 - accuracy: 0.0019 - val_loss: 0.0061 - val_accuracy: 0.0075\n",
            "Epoch 27/30\n",
            "529/529 [==============================] - 1s 2ms/step - loss: 0.0060 - accuracy: 0.0019 - val_loss: 0.0059 - val_accuracy: 0.0075\n",
            "Epoch 28/30\n",
            "529/529 [==============================] - 1s 2ms/step - loss: 0.0059 - accuracy: 0.0019 - val_loss: 0.0062 - val_accuracy: 0.0075\n",
            "Epoch 29/30\n",
            "529/529 [==============================] - 1s 2ms/step - loss: 0.0060 - accuracy: 0.0019 - val_loss: 0.0066 - val_accuracy: 0.0075\n",
            "Epoch 30/30\n",
            "529/529 [==============================] - 1s 2ms/step - loss: 0.0067 - accuracy: 0.0019 - val_loss: 0.0060 - val_accuracy: 0.0075\n"
          ],
          "name": "stdout"
        }
      ]
    },
    {
      "cell_type": "markdown",
      "metadata": {
        "id": "Wk0Jro6Hq4tb"
      },
      "source": [
        "**Model**"
      ]
    },
    {
      "cell_type": "code",
      "metadata": {
        "id": "i4yCbW0LAJX0"
      },
      "source": [
        "#final code to build model\n",
        "from keras.layers import LSTM\n",
        "from keras.models import Sequential\n",
        "from keras.layers import Dense\n",
        "def lo_model():\n",
        "  #Build the model\n",
        "  model = Sequential()\n",
        "\n",
        "  model.add(LSTM(30,input_shape=(1,10), return_sequences=False,activation='tanh', recurrent_activation='relu'))\n",
        "  model.add(Dense(1,input_dim=30))\n",
        "  model.compile(loss='mean_squared_error', optimizer='adam',metrics=['accuracy'])\n",
        "  return model"
      ],
      "execution_count": null,
      "outputs": []
    },
    {
      "cell_type": "code",
      "metadata": {
        "id": "gYKrf_ro9p8A",
        "outputId": "4803220e-30d0-4004-8e60-ccb4fcdd4085",
        "colab": {
          "base_uri": "https://localhost:8080/",
          "height": 221
        }
      },
      "source": [
        "model.summary()"
      ],
      "execution_count": null,
      "outputs": [
        {
          "output_type": "stream",
          "text": [
            "Model: \"sequential_1\"\n",
            "_________________________________________________________________\n",
            "Layer (type)                 Output Shape              Param #   \n",
            "=================================================================\n",
            "lstm_1 (LSTM)                (None, 30)                4920      \n",
            "_________________________________________________________________\n",
            "dense_1 (Dense)              (None, 1)                 31        \n",
            "=================================================================\n",
            "Total params: 4,951\n",
            "Trainable params: 4,951\n",
            "Non-trainable params: 0\n",
            "_________________________________________________________________\n"
          ],
          "name": "stdout"
        }
      ]
    },
    {
      "cell_type": "code",
      "metadata": {
        "id": "xzS9wRYj9UT8",
        "outputId": "6ef81667-1408-4e77-e6a9-62b427029eed",
        "colab": {
          "base_uri": "https://localhost:8080/",
          "height": 793
        }
      },
      "source": [
        "#Testing\n",
        "predict = model.predict(testX)\n",
        "scalery1=MinMaxScaler(feature_range =(0, 1))\n",
        "scalery1 = scalery1.fit(y_test)\n",
        "y=scalery1.inverse_transform(predict)\n",
        "y=pd.DataFrame(y)\n",
        "y\n"
      ],
      "execution_count": null,
      "outputs": [
        {
          "output_type": "execute_result",
          "data": {
            "text/html": [
              "<div>\n",
              "<style scoped>\n",
              "    .dataframe tbody tr th:only-of-type {\n",
              "        vertical-align: middle;\n",
              "    }\n",
              "\n",
              "    .dataframe tbody tr th {\n",
              "        vertical-align: top;\n",
              "    }\n",
              "\n",
              "    .dataframe thead th {\n",
              "        text-align: right;\n",
              "    }\n",
              "</style>\n",
              "<table border=\"1\" class=\"dataframe\">\n",
              "  <thead>\n",
              "    <tr style=\"text-align: right;\">\n",
              "      <th></th>\n",
              "      <th>0</th>\n",
              "    </tr>\n",
              "  </thead>\n",
              "  <tbody>\n",
              "    <tr>\n",
              "      <th>0</th>\n",
              "      <td>7366.936523</td>\n",
              "    </tr>\n",
              "    <tr>\n",
              "      <th>1</th>\n",
              "      <td>7098.203125</td>\n",
              "    </tr>\n",
              "    <tr>\n",
              "      <th>2</th>\n",
              "      <td>6455.511230</td>\n",
              "    </tr>\n",
              "    <tr>\n",
              "      <th>3</th>\n",
              "      <td>6076.718750</td>\n",
              "    </tr>\n",
              "    <tr>\n",
              "      <th>4</th>\n",
              "      <td>6800.450684</td>\n",
              "    </tr>\n",
              "    <tr>\n",
              "      <th>5</th>\n",
              "      <td>7776.664551</td>\n",
              "    </tr>\n",
              "    <tr>\n",
              "      <th>6</th>\n",
              "      <td>6970.786133</td>\n",
              "    </tr>\n",
              "    <tr>\n",
              "      <th>7</th>\n",
              "      <td>8868.817383</td>\n",
              "    </tr>\n",
              "    <tr>\n",
              "      <th>8</th>\n",
              "      <td>9068.748047</td>\n",
              "    </tr>\n",
              "    <tr>\n",
              "      <th>9</th>\n",
              "      <td>10289.704102</td>\n",
              "    </tr>\n",
              "    <tr>\n",
              "      <th>10</th>\n",
              "      <td>13731.151367</td>\n",
              "    </tr>\n",
              "    <tr>\n",
              "      <th>11</th>\n",
              "      <td>11001.250000</td>\n",
              "    </tr>\n",
              "    <tr>\n",
              "      <th>12</th>\n",
              "      <td>7671.373047</td>\n",
              "    </tr>\n",
              "    <tr>\n",
              "      <th>13</th>\n",
              "      <td>12051.462891</td>\n",
              "    </tr>\n",
              "    <tr>\n",
              "      <th>14</th>\n",
              "      <td>10635.482422</td>\n",
              "    </tr>\n",
              "    <tr>\n",
              "      <th>15</th>\n",
              "      <td>11774.332031</td>\n",
              "    </tr>\n",
              "    <tr>\n",
              "      <th>16</th>\n",
              "      <td>9905.623047</td>\n",
              "    </tr>\n",
              "    <tr>\n",
              "      <th>17</th>\n",
              "      <td>9477.972656</td>\n",
              "    </tr>\n",
              "    <tr>\n",
              "      <th>18</th>\n",
              "      <td>9328.648438</td>\n",
              "    </tr>\n",
              "    <tr>\n",
              "      <th>19</th>\n",
              "      <td>9612.387695</td>\n",
              "    </tr>\n",
              "    <tr>\n",
              "      <th>20</th>\n",
              "      <td>9495.125000</td>\n",
              "    </tr>\n",
              "    <tr>\n",
              "      <th>21</th>\n",
              "      <td>9323.889648</td>\n",
              "    </tr>\n",
              "    <tr>\n",
              "      <th>22</th>\n",
              "      <td>8503.882812</td>\n",
              "    </tr>\n",
              "    <tr>\n",
              "      <th>23</th>\n",
              "      <td>7703.921875</td>\n",
              "    </tr>\n",
              "  </tbody>\n",
              "</table>\n",
              "</div>"
            ],
            "text/plain": [
              "               0\n",
              "0    7366.936523\n",
              "1    7098.203125\n",
              "2    6455.511230\n",
              "3    6076.718750\n",
              "4    6800.450684\n",
              "5    7776.664551\n",
              "6    6970.786133\n",
              "7    8868.817383\n",
              "8    9068.748047\n",
              "9   10289.704102\n",
              "10  13731.151367\n",
              "11  11001.250000\n",
              "12   7671.373047\n",
              "13  12051.462891\n",
              "14  10635.482422\n",
              "15  11774.332031\n",
              "16   9905.623047\n",
              "17   9477.972656\n",
              "18   9328.648438\n",
              "19   9612.387695\n",
              "20   9495.125000\n",
              "21   9323.889648\n",
              "22   8503.882812\n",
              "23   7703.921875"
            ]
          },
          "metadata": {
            "tags": []
          },
          "execution_count": 13
        }
      ]
    },
    {
      "cell_type": "code",
      "metadata": {
        "id": "JhzB9u6DgZF8",
        "outputId": "157b632e-00fb-4675-e65f-b78fccbcd99e",
        "colab": {
          "base_uri": "https://localhost:8080/",
          "height": 347
        }
      },
      "source": [
        "y.columns=['hits']\n",
        "timestamp=[0,1,2,3,4,5,6,7,8,9,10,11,12,13,14,15,16,17,18,19,20,21,22,23]\n",
        "time=pd.DataFrame(timestamp)\n",
        "time.columns=['time']\n",
        "# model evaluation\n",
        "plt.plot(time['time'],y_test,color='red',marker='+',label='Real Value')\n",
        "plt.plot(time['time'],y,color='blue',marker='.',label='Forecast Value(LSTM)')\n",
        "plt.xlabel('Time')\n",
        "# naming the y axis\n",
        "plt.ylabel('Request/s(hourly average)')\n",
        "plt.legend()\n",
        "plt.show()\n",
        "r2 = r2_score(y_test, y)\n",
        "print(r2)\n",
        "mae=mean_absolute_error(y_test,y)\n",
        "mse = mean_squared_error(y_test, y)\n",
        "rmse = np.sqrt(mse)\n",
        "print(mae)\n",
        "print(rmse)\n",
        "#MAPE Error\n",
        "mape = MeanAbsolutePercentageError()\n",
        "mape(y_test, y).numpy()"
      ],
      "execution_count": null,
      "outputs": [
        {
          "output_type": "display_data",
          "data": {
            "image/png": "[encoded data removed]",
            "text/plain": [
              "<Figure size 432x288 with 1 Axes>"
            ]
          },
          "metadata": {
            "tags": [],
            "needs_background": "light"
          }
        },
        {
          "output_type": "stream",
          "text": [
            "0.5329947195855189\n",
            "1225.1406860351562\n",
            "1668.139770994083\n"
          ],
          "name": "stdout"
        },
        {
          "output_type": "execute_result",
          "data": {
            "text/plain": [
              "12.270926"
            ]
          },
          "metadata": {
            "tags": []
          },
          "execution_count": 14
        }
      ]
    },
    {
      "cell_type": "markdown",
      "metadata": {
        "id": "-7irE-P_AZXn"
      },
      "source": [
        "**Linear Regression**"
      ]
    },
    {
      "cell_type": "code",
      "metadata": {
        "id": "_hc49FOLYA91",
        "outputId": "ce604c2c-6c14-4611-bae7-d1a87786b5e5",
        "colab": {
          "base_uri": "https://localhost:8080/",
          "height": 1000
        }
      },
      "source": [
        "#input data\n",
        "data = arff.loadarff('input_data.arff')\n",
        "series = pd.DataFrame(data[0])\n",
        "\n",
        "temps=pd.DataFrame(series['hits'])\n",
        "\n",
        "#Test data\n",
        "data_test = arff.loadarff('test_data.arff')\n",
        "series_test = pd.DataFrame(data_test[0])\n",
        "y_test=pd.DataFrame(series_test['hits'])\n",
        "\n",
        "temps=temps.append(y_test,ignore_index = True)\n",
        "\n",
        "print(temps)\n",
        "dataframe=concat([temps.shift(24),temps.shift(23),temps.shift(22),temps.shift(21),temps.shift(20),temps.shift(19),temps.shift(18),temps.shift(17),temps.shift(16),temps.shift(15),temps.shift(14),temps.shift(13),temps.shift(12),temps.shift(11),temps.shift(10),temps.shift(9),temps.shift(8),temps.shift(7),temps.shift(6),temps.shift(5),temps.shift(4),temps.shift(3),temps.shift(2),temps.shift(1)], axis=1)\n",
        "dataframe.columns = ['me', 'mx', 't+1','h','g','hth','w','e','r','t','y','i','o','p','a','s','d','m','g','ss','ww','qww','rt','out']\n",
        "\n",
        "print(dataframe)\n",
        "df=DataFrame()\n",
        "df=dataframe[24:672]\n",
        "x_test=DataFrame()\n",
        "x_test=dataframe[672:]\n",
        "x_train=DataFrame()\n",
        "x_train=df\n",
        "y_train=DataFrame()\n",
        "y_train=pd.DataFrame(temps[24:672])\n",
        "\n",
        "x_t=x_train.values\n",
        "y_t=y_train.values\n",
        "\n",
        "print(x_test)\n",
        "print(y_test)\n",
        "from sklearn.preprocessing import MinMaxScaler\n",
        "scaler = MinMaxScaler(feature_range =(0, 1))\n",
        "scaler = scaler.fit(x_t)\n",
        "x_train=scaler.transform(x_t)\n",
        "x_train=pd.DataFrame(x_train)\n",
        "\n",
        "x_te=x_test.values\n",
        "scaler1 = MinMaxScaler(feature_range =(0, 1))\n",
        "scaler1 = scaler1.fit(x_te)\n",
        "x_test=scaler1.transform(x_te)\n",
        "x_test=pd.DataFrame(x_test)\n",
        "\n",
        "scalery = MinMaxScaler(feature_range =(0, 1))\n",
        "scalery = scalery.fit(y_t)\n",
        "y_train=scalery.transform(y_t)\n",
        "y_train=pd.DataFrame(y_train)\n",
        "\n",
        "\n",
        "regression_model = LinearRegression()\n",
        "# Fit the data(train the model)\n",
        "regression_model.fit(x_train, y_train)\n",
        "# Predict\n",
        "yt=regression_model.predict(x_test)\n",
        "scalery1=MinMaxScaler(feature_range =(0, 1))\n",
        "scalery1 = scalery1.fit(y_test)\n",
        "y=scalery1.inverse_transform(yt)\n",
        "y=pd.DataFrame(y)\n",
        "\n",
        "y.columns=['hits']\n",
        "\n",
        "timestamp=[0,1,2,3,4,5,6,7,8,9,10,11,12,13,14,15,16,17,18,19,20,21,22,23]\n",
        "time=pd.DataFrame(timestamp)\n",
        "time.columns=['time']\n",
        "\n",
        "# model evaluation\n",
        "plt.plot(time['time'],y_test,color='red',marker='+',label='Real Value')\n",
        "\n",
        "plt.plot(time['time'],y,color='blue',marker='.',label='Forecast Value(LinearRegression)')\n",
        "plt.xlabel('Time')\n",
        "# naming the y axis\n",
        "plt.ylabel('Request/s(hourly average)')\n",
        "plt.legend()\n",
        "plt.show()\n",
        "\n",
        "r2 = r2_score(y_test, y)\n",
        "print(r2)\n",
        "mae=mean_absolute_error(y_test,y)\n",
        "mse = mean_squared_error(y_test, y)\n",
        "rmse = np.sqrt(mse)\n",
        "print(mae)\n",
        "print(rmse)\n",
        "#MAPE Error\n",
        "mape = MeanAbsolutePercentageError()\n",
        "mape(y_test, y).numpy()"
      ],
      "execution_count": null,
      "outputs": [
        {
          "output_type": "stream",
          "text": [
            "        hits\n",
            "0     6172.0\n",
            "1     5957.0\n",
            "2     5154.0\n",
            "3     8200.0\n",
            "4    11327.0\n",
            "..       ...\n",
            "691   9705.0\n",
            "692   9950.0\n",
            "693   8173.0\n",
            "694   7913.0\n",
            "695   7717.0\n",
            "\n",
            "[696 rows x 1 columns]\n",
            "          me      mx     t+1       h  ...       ww      qww       rt      out\n",
            "0        NaN     NaN     NaN     NaN  ...      NaN      NaN      NaN      NaN\n",
            "1        NaN     NaN     NaN     NaN  ...      NaN      NaN      NaN   6172.0\n",
            "2        NaN     NaN     NaN     NaN  ...      NaN      NaN   6172.0   5957.0\n",
            "3        NaN     NaN     NaN     NaN  ...      NaN   6172.0   5957.0   5154.0\n",
            "4        NaN     NaN     NaN     NaN  ...   6172.0   5957.0   5154.0   8200.0\n",
            "..       ...     ...     ...     ...  ...      ...      ...      ...      ...\n",
            "691  10095.0  9402.0  8580.0  8336.0  ...  11693.0  12217.0   8221.0  10864.0\n",
            "692   9402.0  8580.0  8336.0  7241.0  ...  12217.0   8221.0  10864.0   9705.0\n",
            "693   8580.0  8336.0  7241.0  6979.0  ...   8221.0  10864.0   9705.0   9950.0\n",
            "694   8336.0  7241.0  6979.0  6719.0  ...  10864.0   9705.0   9950.0   8173.0\n",
            "695   7241.0  6979.0  6719.0  5434.0  ...   9705.0   9950.0   8173.0   7913.0\n",
            "\n",
            "[696 rows x 24 columns]\n",
            "          me       mx      t+1        h  ...       ww      qww       rt      out\n",
            "672   5677.0   5173.0   6150.0   7551.0  ...   9402.0   8580.0   8336.0   7241.0\n",
            "673   5173.0   6150.0   7551.0   8897.0  ...   8580.0   8336.0   7241.0   6979.0\n",
            "674   6150.0   7551.0   8897.0   8624.0  ...   8336.0   7241.0   6979.0   6719.0\n",
            "675   7551.0   8897.0   8624.0   6400.0  ...   7241.0   6979.0   6719.0   5434.0\n",
            "676   8897.0   8624.0   6400.0   9952.0  ...   6979.0   6719.0   5434.0   7227.0\n",
            "677   8624.0   6400.0   9952.0  10044.0  ...   6719.0   5434.0   7227.0   8369.0\n",
            "678   6400.0   9952.0  10044.0  12486.0  ...   5434.0   7227.0   8369.0   6599.0\n",
            "679   9952.0  10044.0  12486.0  12409.0  ...   7227.0   8369.0   6599.0   9302.0\n",
            "680  10044.0  12486.0  12409.0  13071.0  ...   8369.0   6599.0   9302.0   8861.0\n",
            "681  12486.0  12409.0  13071.0  12315.0  ...   6599.0   9302.0   8861.0  11262.0\n",
            "682  12409.0  13071.0  12315.0  12212.0  ...   9302.0   8861.0  11262.0  12477.0\n",
            "683  13071.0  12315.0  12212.0  12354.0  ...   8861.0  11262.0  12477.0  13869.0\n",
            "684  12315.0  12212.0  12354.0  11233.0  ...  11262.0  12477.0  13869.0  11778.0\n",
            "685  12212.0  12354.0  11233.0  12713.0  ...  12477.0  13869.0  11778.0  12907.0\n",
            "686  12354.0  11233.0  12713.0  10424.0  ...  13869.0  11778.0  12907.0  14173.0\n",
            "687  11233.0  12713.0  10424.0   9506.0  ...  11778.0  12907.0  14173.0  11875.0\n",
            "688  12713.0  10424.0   9506.0  10095.0  ...  12907.0  14173.0  11875.0  11693.0\n",
            "689  10424.0   9506.0  10095.0   9402.0  ...  14173.0  11875.0  11693.0  12217.0\n",
            "690   9506.0  10095.0   9402.0   8580.0  ...  11875.0  11693.0  12217.0   8221.0\n",
            "691  10095.0   9402.0   8580.0   8336.0  ...  11693.0  12217.0   8221.0  10864.0\n",
            "692   9402.0   8580.0   8336.0   7241.0  ...  12217.0   8221.0  10864.0   9705.0\n",
            "693   8580.0   8336.0   7241.0   6979.0  ...   8221.0  10864.0   9705.0   9950.0\n",
            "694   8336.0   7241.0   6979.0   6719.0  ...  10864.0   9705.0   9950.0   8173.0\n",
            "695   7241.0   6979.0   6719.0   5434.0  ...   9705.0   9950.0   8173.0   7913.0\n",
            "\n",
            "[24 rows x 24 columns]\n",
            "       hits\n",
            "0    6979.0\n",
            "1    6719.0\n",
            "2    5434.0\n",
            "3    7227.0\n",
            "4    8369.0\n",
            "5    6599.0\n",
            "6    9302.0\n",
            "7    8861.0\n",
            "8   11262.0\n",
            "9   12477.0\n",
            "10  13869.0\n",
            "11  11778.0\n",
            "12  12907.0\n",
            "13  14173.0\n",
            "14  11875.0\n",
            "15  11693.0\n",
            "16  12217.0\n",
            "17   8221.0\n",
            "18  10864.0\n",
            "19   9705.0\n",
            "20   9950.0\n",
            "21   8173.0\n",
            "22   7913.0\n",
            "23   7717.0\n"
          ],
          "name": "stdout"
        },
        {
          "output_type": "display_data",
          "data": {
            "image/png": "[encoded data removed]",
            "text/plain": [
              "<Figure size 432x288 with 1 Axes>"
            ]
          },
          "metadata": {
            "tags": [],
            "needs_background": "light"
          }
        },
        {
          "output_type": "stream",
          "text": [
            "0.7641714130240459\n",
            "997.7581858169387\n",
            "1185.4132180399715\n"
          ],
          "name": "stdout"
        },
        {
          "output_type": "execute_result",
          "data": {
            "text/plain": [
              "10.81937"
            ]
          },
          "metadata": {
            "tags": []
          },
          "execution_count": 15
        }
      ]
    },
    {
      "cell_type": "markdown",
      "metadata": {
        "id": "F8562Qn9AyoH"
      },
      "source": [
        "**SVR**"
      ]
    },
    {
      "cell_type": "code",
      "metadata": {
        "id": "azPY9BIECy6j",
        "outputId": "591e60f3-94cd-475b-d824-0c5328b0964d",
        "colab": {
          "base_uri": "https://localhost:8080/",
          "height": 639
        }
      },
      "source": [
        "\n",
        "#input data\n",
        "data = arff.loadarff('input_data.arff')\n",
        "series = pd.DataFrame(data[0])\n",
        "\n",
        "temps=pd.DataFrame(series['hits'])\n",
        "\n",
        "#Test data\n",
        "data_test = arff.loadarff('test_data.arff')\n",
        "series_test = pd.DataFrame(data_test[0])\n",
        "y_test=pd.DataFrame(series_test['hits'])\n",
        "\n",
        "temps=temps.append(y_test,ignore_index = True)\n",
        "\n",
        "\n",
        "dataframe=concat([temps.shift(24),temps.shift(23),temps.shift(22),temps.shift(21),temps.shift(20),temps.shift(19),temps.shift(18),temps.shift(17),temps.shift(16),temps.shift(15),temps.shift(14),temps.shift(13),temps.shift(12),temps.shift(11),temps.shift(10),temps.shift(9),temps.shift(8),temps.shift(7),temps.shift(6),temps.shift(5),temps.shift(4),temps.shift(3),temps.shift(2),temps.shift(1)], axis=1)\n",
        "dataframe.columns = ['me', 'mx', 't+1','h','g','hth','w','e','r','t','y','i','o','p','a','s','d','m','g','ss','ww','qww','rt','out']\n",
        "\n",
        "\n",
        "df=DataFrame()\n",
        "df=dataframe[24:672]\n",
        "x_test=DataFrame()\n",
        "x_test=dataframe[672:]\n",
        "x_train=DataFrame()\n",
        "x_train=df\n",
        "y_train=DataFrame()\n",
        "y_train=pd.DataFrame(temps[24:672])\n",
        "\n",
        "x_t=x_train.values\n",
        "y_t=y_train.values\n",
        "\n",
        "from sklearn.preprocessing import MinMaxScaler\n",
        "scaler = MinMaxScaler(feature_range =(0, 1))\n",
        "scaler = scaler.fit(x_t)\n",
        "x_train=scaler.transform(x_t)\n",
        "x_train=pd.DataFrame(x_train)\n",
        "\n",
        "x_te=x_test.values\n",
        "scaler1 = MinMaxScaler(feature_range =(0, 1))\n",
        "scaler1 = scaler1.fit(x_te)\n",
        "x_test=scaler1.transform(x_te)\n",
        "x_test=pd.DataFrame(x_test)\n",
        "\n",
        "scalery = MinMaxScaler(feature_range =(0, 1))\n",
        "scalery = scalery.fit(y_t)\n",
        "y_train=scalery.transform(y_t)\n",
        "y_train=pd.DataFrame(y_train)\n",
        "print(y_train)\n",
        "\n",
        "\n",
        "model = SVR(kernel='rbf',gamma=0.002,C=10,epsilon=.027)\n",
        "model.fit(x_train, y_train)\n",
        "yt=pd.DataFrame(model.predict(x_test))\n",
        "\n",
        "scalery1=MinMaxScaler(feature_range =(0, 1))\n",
        "scalery1 = scalery1.fit(y_test)\n",
        "y=scalery1.inverse_transform(yt)\n",
        "y=pd.DataFrame(y)\n",
        "y.columns=['hits']\n",
        "\n",
        "timestamp=[0,1,2,3,4,5,6,7,8,9,10,11,12,13,14,15,16,17,18,19,20,21,22,23]\n",
        "time=pd.DataFrame(timestamp)\n",
        "time.columns=['time']\n",
        "\n",
        "# model evaluation\n",
        "plt.plot(time['time'],y_test,color='red',marker='+',label='Real Value')\n",
        "plt.plot(time['time'],y,color='blue',marker='.',label='Forecast Value(SVR)')\n",
        "plt.xlabel('Time')\n",
        "# naming the y axis\n",
        "plt.ylabel('Request/s(hourly average)')\n",
        "plt.legend()\n",
        "plt.show()\n",
        "\n",
        "r2 = r2_score(y_test, y)\n",
        "print(r2)\n",
        "\n",
        "mae=mean_absolute_error(y_test,y)\n",
        "mse = mean_squared_error(y_test, y)\n",
        "rmse = np.sqrt(mse)\n",
        "print(mae)\n",
        "print(rmse)\n",
        "#MAPE Error\n",
        "mape = MeanAbsolutePercentageError()\n",
        "mape(y_test, y).numpy()\n"
      ],
      "execution_count": null,
      "outputs": [
        {
          "output_type": "stream",
          "text": [
            "            0\n",
            "0    0.133966\n",
            "1    0.110672\n",
            "2    0.013333\n",
            "3    0.169908\n",
            "4    0.178024\n",
            "..        ...\n",
            "643  0.343821\n",
            "644  0.307299\n",
            "645  0.263979\n",
            "646  0.251120\n",
            "647  0.193412\n",
            "\n",
            "[648 rows x 1 columns]\n"
          ],
          "name": "stdout"
        },
        {
          "output_type": "stream",
          "text": [
            "/usr/local/lib/python3.6/dist-packages/sklearn/utils/validation.py:760: DataConversionWarning: A column-vector y was passed when a 1d array was expected. Please change the shape of y to (n_samples, ), for example using ravel().\n",
            "  y = column_or_1d(y, warn=True)\n"
          ],
          "name": "stderr"
        },
        {
          "output_type": "display_data",
          "data": {
            "image/png": "[encoded data removed]",
            "text/plain": [
              "<Figure size 432x288 with 1 Axes>"
            ]
          },
          "metadata": {
            "tags": [],
            "needs_background": "light"
          }
        },
        {
          "output_type": "stream",
          "text": [
            "0.7851850031553295\n",
            "939.1171593094695\n",
            "1131.3678671835128\n"
          ],
          "name": "stdout"
        },
        {
          "output_type": "execute_result",
          "data": {
            "text/plain": [
              "10.123078"
            ]
          },
          "metadata": {
            "tags": []
          },
          "execution_count": 16
        }
      ]
    },
    {
      "cell_type": "markdown",
      "metadata": {
        "id": "CUbGuJgPA5iZ"
      },
      "source": [
        "**ARIMA**"
      ]
    },
    {
      "cell_type": "code",
      "metadata": {
        "id": "uY6jxOaE1Llb",
        "outputId": "3f42e23a-faac-421f-e445-294c34f14e81",
        "colab": {
          "base_uri": "https://localhost:8080/",
          "height": 1000
        }
      },
      "source": [
        "\n",
        "rcParams['figure.figsize'] = 6, 5\n",
        "data = arff.loadarff('input_data.arff')\n",
        "data = pd.DataFrame(data[0])\n",
        "train=data\n",
        "x_train=pd.DataFrame(train['hits'])\n",
        "\n",
        "out_data= arff.loadarff('test_data.arff')\n",
        "out_df = pd.DataFrame(out_data[0])\n",
        "test=out_df\n",
        "y_test=pd.DataFrame(test['hits'])\n",
        "\n",
        "train_len=672\n",
        "test_len=24\n",
        "\n",
        "xx=x_train.mean()\n",
        "xx.head()\n",
        "autocorrelation_plot(x_train[:40])\n",
        "plot_acf(x_train)\n",
        "\n",
        "plt.show()\n",
        "plot_pacf(x_train,lags=20)\n",
        "plt.show()\n",
        "#p=12\n",
        "#q=0\n",
        "\n",
        "x_train.plot()\n",
        "plt.show()\n",
        "\n",
        "model = ARIMA(x_train,order=(12,0,0))\n",
        "model_fit = model.fit()\n",
        "\n",
        "\n",
        "predictions = model_fit.predict(start=len(x_train), end=len(x_train)+len(y_test)-1, dynamic=False)\n",
        "\n",
        "predictions=pd.DataFrame(predictions)\n",
        "\n",
        "\n",
        "\n",
        "timestamp=[0,1,2,3,4,5,6,7,8,9,10,11,12,13,14,15,16,17,18,19,20,21,22,23]\n",
        "time=pd.DataFrame(timestamp)\n",
        "time.columns=['time']\n",
        "# plot results\n",
        "#plt.figure(figsize=(12,6))\n",
        "plt.plot(time,test['hits'],color='red',marker='+',label='Real Value')\n",
        "plt.plot(time,predictions, color='blue',marker='.',label='Forecast Value(ARIMA)')\n",
        "plt.xlabel('Time')\n",
        "# naming the y axis\n",
        "plt.ylabel('Request/s(hourly average)')\n",
        "\n",
        "plt.legend()\n",
        "plt.show()\n",
        "\n",
        "r2 = r2_score(test['hits'], predictions)\n",
        "print(r2)\n",
        "from sklearn.metrics import mean_absolute_error\n",
        "\n",
        "mae=mean_absolute_error(y_test,predictions)\n",
        "mse = mean_squared_error(y_test, predictions)\n",
        "rmse = np.sqrt(mse)\n",
        "print(mae)\n",
        "print(rmse)\n",
        "#MAPE Error\n",
        "mape = MeanAbsolutePercentageError()\n",
        "mape(y_test, predictions).numpy()"
      ],
      "execution_count": null,
      "outputs": [
        {
          "output_type": "display_data",
          "data": {
            "image/png": "[encoded data removed]",
            "text/plain": [
              "<Figure size 432x360 with 1 Axes>"
            ]
          },
          "metadata": {
            "tags": [],
            "needs_background": "light"
          }
        },
        {
          "output_type": "display_data",
          "data": {
            "image/png": "[encoded data removed]",
            "text/plain": [
              "<Figure size 432x360 with 1 Axes>"
            ]
          },
          "metadata": {
            "tags": [],
            "needs_background": "light"
          }
        },
        {
          "output_type": "display_data",
          "data": {
            "image/png": "[encoded data removed]",
            "text/plain": [
              "<Figure size 432x360 with 1 Axes>"
            ]
          },
          "metadata": {
            "tags": [],
            "needs_background": "light"
          }
        },
        {
          "output_type": "display_data",
          "data": {
            "image/png": "[encoded data removed]",
            "text/plain": [
              "<Figure size 432x360 with 1 Axes>"
            ]
          },
          "metadata": {
            "tags": [],
            "needs_background": "light"
          }
        },
        {
          "output_type": "display_data",
          "data": {
            "image/png": "[encoded data removed]",
            "text/plain": [
              "<Figure size 432x360 with 1 Axes>"
            ]
          },
          "metadata": {
            "tags": [],
            "needs_background": "light"
          }
        },
        {
          "output_type": "stream",
          "text": [
            "0.44451146099824257\n",
            "1506.1734807773803\n",
            "1819.3199949764598\n"
          ],
          "name": "stdout"
        },
        {
          "output_type": "execute_result",
          "data": {
            "text/plain": [
              "15.133555"
            ]
          },
          "metadata": {
            "tags": []
          },
          "execution_count": 17
        }
      ]
    },
    {
      "cell_type": "markdown",
      "metadata": {
        "id": "o-KQqCWK3jI8"
      },
      "source": [
        "**Simulation**"
      ]
    },
    {
      "cell_type": "code",
      "metadata": {
        "id": "7kFiF-yZsPUr",
        "outputId": "4461d475-9f3e-4242-c324-cc9e52283498",
        "colab": {
          "base_uri": "https://localhost:8080/",
          "height": 1000
        }
      },
      "source": [
        "#Train data\n",
        "data = arff.loadarff('input_data.arff')\n",
        "series = pd.DataFrame(data[0])\n",
        "\n",
        "temps=pd.DataFrame(series['hits'])\n",
        "\n",
        "#Test data\n",
        "data_test = arff.loadarff('test_data.arff')\n",
        "series_test = pd.DataFrame(data_test[0])\n",
        "y_test=pd.DataFrame(series_test['hits'])\n",
        "\n",
        "temps=temps.append(y_test,ignore_index = True)\n",
        "\n",
        "print(temps)\n",
        "dataframe=concat([temps.shift(10),temps.shift(9),temps.shift(8),temps.shift(7),temps.shift(6),temps.shift(5),temps.shift(4),temps.shift(3),temps.shift(2),temps.shift(1)], axis=1)\n",
        "dataframe.columns = ['me', 'mx', 't+1','h','g','hth','w','e','r','t']\n",
        "\n",
        "\n",
        "x_test=DataFrame()\n",
        "x_test=dataframe[672:]\n",
        "\n",
        "\n",
        "print(x_test)\n",
        "print(y_test)\n",
        "#Scaling\n",
        "\n",
        "\n",
        "x_te=x_test.values\n",
        "scaler1 = MinMaxScaler(feature_range =(0, 1))\n",
        "scaler1 = scaler1.fit(x_te)\n",
        "x_test=scaler1.transform(x_te)\n",
        "x_test=pd.DataFrame(x_test)\n",
        "x_test=x_test.to_numpy()\n",
        "testX = np.reshape(x_test, (x_test.shape[0], 1, x_test.shape[1]))\n",
        "\n",
        "model=load_model('mymodel.h5')\n",
        "for i in range(0,24):\n",
        "  sub = testX[i:i+1]\n",
        "  predict = model.predict(sub)\n",
        "  scalery1=MinMaxScaler(feature_range =(0, 1))\n",
        "  scalery1 = scalery1.fit(y_test)\n",
        "  y1=scalery1.inverse_transform(predict)\n",
        "  y=pd.DataFrame(y1)\n",
        "  print(y)\n",
        "  cdt=10\n",
        "  sdr=0.40\n",
        "  R_min=5\n",
        "  R_current=20\n",
        "  R_estimated=int(y[0]);\n",
        "  if R_current==R_estimated:\n",
        "    os.system('docker service ls')\n",
        "  elif R_estimated > R_current:\n",
        "    cmd='docker service scale prod_awesome='+str(R_estimated)\n",
        "    os.system(cmd)\n",
        "    os.system('docker service ls')\n",
        "    R_current = R_estimated\n",
        "    cdt=10\n",
        "  elif cdt==0:\n",
        "    cdt=10\n",
        "    R_estimated=math.floor((R_current-R_estimated)*(1-sdr))\n",
        "    R_estimated=math.max(R_current-R_estimated,R_min)\n",
        "    cmd='docker service scale prod_awesome='+str(R_estimated)\n",
        "    R_current = R_estimated\n",
        "    os.system(cmd)\n",
        "    os.system('docker service ls')\n",
        "  else:\n",
        "    cdt=cdt-1\n",
        "  time.sleep(60)\n",
        "\n",
        "\n"
      ],
      "execution_count": null,
      "outputs": [
        {
          "output_type": "stream",
          "text": [
            "        hits\n",
            "0     6172.0\n",
            "1     5957.0\n",
            "2     5154.0\n",
            "3     8200.0\n",
            "4    11327.0\n",
            "..       ...\n",
            "691   9705.0\n",
            "692   9950.0\n",
            "693   8173.0\n",
            "694   7913.0\n",
            "695   7717.0\n",
            "\n",
            "[696 rows x 1 columns]\n",
            "         me       mx      t+1        h  ...        w        e        r        t\n",
            "0       NaN      NaN      NaN      NaN  ...      NaN      NaN      NaN      NaN\n",
            "1       NaN      NaN      NaN      NaN  ...      NaN      NaN      NaN   6172.0\n",
            "2       NaN      NaN      NaN      NaN  ...      NaN      NaN   6172.0   5957.0\n",
            "3       NaN      NaN      NaN      NaN  ...      NaN   6172.0   5957.0   5154.0\n",
            "4       NaN      NaN      NaN      NaN  ...   6172.0   5957.0   5154.0   8200.0\n",
            "5       NaN      NaN      NaN      NaN  ...   5957.0   5154.0   8200.0  11327.0\n",
            "6       NaN      NaN      NaN      NaN  ...   5154.0   8200.0  11327.0   8565.0\n",
            "7       NaN      NaN      NaN   6172.0  ...   8200.0  11327.0   8565.0   8766.0\n",
            "8       NaN      NaN   6172.0   5957.0  ...  11327.0   8565.0   8766.0   8593.0\n",
            "9       NaN   6172.0   5957.0   5154.0  ...   8565.0   8766.0   8593.0  12838.0\n",
            "10   6172.0   5957.0   5154.0   8200.0  ...   8766.0   8593.0  12838.0  11035.0\n",
            "11   5957.0   5154.0   8200.0  11327.0  ...   8593.0  12838.0  11035.0  15581.0\n",
            "12   5154.0   8200.0  11327.0   8565.0  ...  12838.0  11035.0  15581.0  14393.0\n",
            "13   8200.0  11327.0   8565.0   8766.0  ...  11035.0  15581.0  14393.0  11200.0\n",
            "14  11327.0   8565.0   8766.0   8593.0  ...  15581.0  14393.0  11200.0  11990.0\n",
            "\n",
            "[15 rows x 10 columns]\n",
            "          me       mx      t+1        h  ...        w        e        r        t\n",
            "672  12354.0  11233.0  12713.0  10424.0  ...   9402.0   8580.0   8336.0   7241.0\n",
            "673  11233.0  12713.0  10424.0   9506.0  ...   8580.0   8336.0   7241.0   6979.0\n",
            "674  12713.0  10424.0   9506.0  10095.0  ...   8336.0   7241.0   6979.0   6719.0\n",
            "675  10424.0   9506.0  10095.0   9402.0  ...   7241.0   6979.0   6719.0   5434.0\n",
            "676   9506.0  10095.0   9402.0   8580.0  ...   6979.0   6719.0   5434.0   7227.0\n",
            "677  10095.0   9402.0   8580.0   8336.0  ...   6719.0   5434.0   7227.0   8369.0\n",
            "678   9402.0   8580.0   8336.0   7241.0  ...   5434.0   7227.0   8369.0   6599.0\n",
            "679   8580.0   8336.0   7241.0   6979.0  ...   7227.0   8369.0   6599.0   9302.0\n",
            "680   8336.0   7241.0   6979.0   6719.0  ...   8369.0   6599.0   9302.0   8861.0\n",
            "681   7241.0   6979.0   6719.0   5434.0  ...   6599.0   9302.0   8861.0  11262.0\n",
            "682   6979.0   6719.0   5434.0   7227.0  ...   9302.0   8861.0  11262.0  12477.0\n",
            "683   6719.0   5434.0   7227.0   8369.0  ...   8861.0  11262.0  12477.0  13869.0\n",
            "684   5434.0   7227.0   8369.0   6599.0  ...  11262.0  12477.0  13869.0  11778.0\n",
            "685   7227.0   8369.0   6599.0   9302.0  ...  12477.0  13869.0  11778.0  12907.0\n",
            "686   8369.0   6599.0   9302.0   8861.0  ...  13869.0  11778.0  12907.0  14173.0\n",
            "687   6599.0   9302.0   8861.0  11262.0  ...  11778.0  12907.0  14173.0  11875.0\n",
            "688   9302.0   8861.0  11262.0  12477.0  ...  12907.0  14173.0  11875.0  11693.0\n",
            "689   8861.0  11262.0  12477.0  13869.0  ...  14173.0  11875.0  11693.0  12217.0\n",
            "690  11262.0  12477.0  13869.0  11778.0  ...  11875.0  11693.0  12217.0   8221.0\n",
            "691  12477.0  13869.0  11778.0  12907.0  ...  11693.0  12217.0   8221.0  10864.0\n",
            "692  13869.0  11778.0  12907.0  14173.0  ...  12217.0   8221.0  10864.0   9705.0\n",
            "693  11778.0  12907.0  14173.0  11875.0  ...   8221.0  10864.0   9705.0   9950.0\n",
            "694  12907.0  14173.0  11875.0  11693.0  ...  10864.0   9705.0   9950.0   8173.0\n",
            "695  14173.0  11875.0  11693.0  12217.0  ...   9705.0   9950.0   8173.0   7913.0\n",
            "\n",
            "[24 rows x 10 columns]\n",
            "       hits\n",
            "0    6979.0\n",
            "1    6719.0\n",
            "2    5434.0\n",
            "3    7227.0\n",
            "4    8369.0\n",
            "5    6599.0\n",
            "6    9302.0\n",
            "7    8861.0\n",
            "8   11262.0\n",
            "9   12477.0\n",
            "10  13869.0\n",
            "11  11778.0\n",
            "12  12907.0\n",
            "13  14173.0\n",
            "14  11875.0\n",
            "15  11693.0\n",
            "16  12217.0\n",
            "17   8221.0\n",
            "18  10864.0\n",
            "19   9705.0\n",
            "20   9950.0\n",
            "21   8173.0\n",
            "22   7913.0\n",
            "23   7717.0\n",
            "             0\n",
            "0  7475.905762\n",
            "            0\n",
            "0  7393.15918\n",
            "             0\n",
            "0  7092.762695\n",
            "            0\n",
            "0  6496.73584\n",
            "             0\n",
            "0  6691.098633\n",
            "             0\n",
            "0  7427.311523\n",
            "             0\n",
            "0  7293.864258\n",
            "             0\n",
            "0  9027.922852\n",
            "             0\n",
            "0  8963.041992\n",
            "              0\n",
            "0  10764.014648\n",
            "              0\n",
            "0  13133.275391\n",
            "              0\n",
            "0  12851.246094\n",
            "              0\n",
            "0  11343.863281\n",
            "              0\n",
            "0  12745.994141\n",
            "              0\n",
            "0  12431.104492\n",
            "              0\n",
            "0  11527.743164\n",
            "              0\n",
            "0  11025.151367\n",
            "              0\n",
            "0  10689.086914\n",
            "             0\n",
            "0  9557.306641\n",
            "             0\n",
            "0  9853.866211\n",
            "             0\n",
            "0  9546.291992\n",
            "             0\n",
            "0  9319.258789\n",
            "             0\n",
            "0  8737.289062\n",
            "             0\n",
            "0  7678.070801\n"
          ],
          "name": "stdout"
        }
      ]
    }
  ]
}